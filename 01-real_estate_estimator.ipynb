{
 "cells": [
  {
   "cell_type": "markdown",
   "metadata": {},
   "source": [
    "# 🏠 Real Estate estimator"
   ]
  },
  {
   "cell_type": "markdown",
   "metadata": {},
   "source": [
    "🎯In the following challenge, we will try to figure out whether there exists a ***LINEAR RELATIONSHIP*** between :\n",
    "- the **price** of a flat (our **target** for each flat)\n",
    "- and some usual **features** such as like surface area, bedrooms, etc..."
   ]
  },
  {
   "cell_type": "markdown",
   "metadata": {},
   "source": [
    "❗️ Pandas is forbidden in this challenge ❗️\n",
    "\n",
    "😁 Welcome to the [NumPy documentation](https://docs.scipy.org/doc/numpy/reference/) which will be your friend throughout this exercise.\n",
    "\n",
    "👉 You can also find help on this [NumPy cheatsheet](https://s3.amazonaws.com/assets.datacamp.com/blog_assets/Numpy_Python_Cheat_Sheet.pdf)"
   ]
  },
  {
   "cell_type": "code",
   "execution_count": 1,
   "metadata": {},
   "outputs": [],
   "source": [
    "# Load the NumPy library\n",
    "import numpy as np\n"
   ]
  },
  {
   "cell_type": "markdown",
   "metadata": {},
   "source": [
    "🌆 Suppose that we were able to collect data for 4 flats down below: \n",
    "- their **features**:\n",
    "    - `surface` (square feet)\n",
    "    - `bedrooms`\n",
    "    - `floors` \n",
    "- their **target**:\n",
    "    - `price` (in thousands of USD)\n",
    "\n",
    "|flats |surface (square feet)|bedrooms|floors|price (k USD)|\n",
    "|------|-------------|--------|------|------------|\n",
    "|flat1 |620|1|1|244|\n",
    "|flat2 |3280|4|2|671|\n",
    "|flat3 |1900|2|2|504|\n",
    "|flat4 |1320|3|3|510|\n",
    "\n",
    "👉 A first approach to **predict the price of an apartment** is to try to **find a linear relationship between the  target and the features** (*i.e. between the price and the (surface, bedrooms, floor)*), by solving the following **system of $n = 4$ linear equations with $p = 4$ unknown variables**: \n",
    "\n",
    "\n",
    "\n",
    "$$\\begin{cases}\n",
    "    244 = \\theta_0 + 620\\theta_1 + 1\\theta_2 + 1\\theta_3 \\\\\n",
    "    671 = \\theta_0 + 3280\\theta_1 + 4\\theta_2 + 2\\theta_3 \\\\\n",
    "    504 = \\theta_0 + 1900\\theta_1 + 2\\theta_2 + 2\\theta_3 \\\\\n",
    "    510 = \\theta_0 + 1320\\theta_1 + 3\\theta_2 + 3\\theta_3 \\\\\n",
    "\\end{cases}$$\n",
    "\n",
    "which can be translated into a matricial equation:\n",
    "\n",
    "$$\\boldsymbol y = \\boldsymbol {X \\cdot \\theta}$$\n",
    "\n",
    "$$\\begin{bmatrix}\n",
    "    244 \\\\\n",
    "    671 \\\\\n",
    "    504 \\\\\n",
    "    510\n",
    "\\end{bmatrix}_{4 \\times 1} = \\begin{bmatrix}\n",
    "    1 & 620 & 1 & 1 \\\\\n",
    "    1 & 3280 & 4 & 2 \\\\\n",
    "    1 & 1900 & 2 & 2 \\\\\n",
    "    1 & 1320 & 3 & 3\n",
    "\\end{bmatrix}_{4 \\times 4} \\begin{bmatrix}\n",
    "    \\theta_0 \\\\\n",
    "    \\theta_1 \\\\\n",
    "    \\theta_2 \\\\\n",
    "    \\theta_3\n",
    "\\end{bmatrix}_{4 \\times 1}$$\n",
    "\n",
    "where :\n",
    "* $\\boldsymbol y$ is the **`target`**, the vector of `Price`\n",
    "* $\\boldsymbol X$ represents the **`matrix of features`**\n",
    "* $\\boldsymbol {\\theta} = \\begin{bmatrix}\n",
    "    \\theta_0 \\\\\n",
    "    \\theta_1 \\\\\n",
    "    \\theta_2 \\\\\n",
    "    \\theta_3\n",
    "\\end{bmatrix}$ (*theta*) is the vector of **coefficients/variables/unknowns** to be found\n",
    "\n",
    "----\n",
    "\n",
    "🤓 Here, we are using the Greek letter `theta` $\\boldsymbol \\theta = \\begin{bmatrix}\n",
    "    \\theta_0 \\\\\n",
    "    \\theta_1 \\\\\n",
    "    \\theta_2 \\\\\n",
    "    \\theta_3 \\\\\n",
    "\\end{bmatrix}$, to represent the coefficients of our **features**:\n",
    "\n",
    "- A flat with no surface, no bedroom and no floor would cost $\\theta_0$\n",
    "- An increase of one sqm - *holding the number of bedrooms and the floor  number constant* -  would increase the price by $\\theta_1$ thousand USD\n",
    "- An additional bedroom - *holding the surface and the floor number constant* -   would increase the price by $\\theta_2$ thousand USD\n",
    "- An increase of one floor number - *holding the surface and the number of bedrooms constant* - would increase the price by $\\theta_3$ thousand USD\n",
    "\n",
    "----\n",
    "\n",
    "😉 If we manage to solve this system of linear equations (i.e. if we find $\\theta_0$, $\\theta_1$, $\\theta_2$, $\\theta_3$), the price of any new flat could be estimated using the following formula: $$y_{newflat} = \\boldsymbol x_{newflat} \\cdot \\boldsymbol \\theta$$"
   ]
  },
  {
   "cell_type": "code",
   "execution_count": null,
   "metadata": {},
   "outputs": [],
   "source": []
  },
  {
   "cell_type": "markdown",
   "metadata": {},
   "source": [
    "## (1) Define the matrix $\\boldsymbol X$ of `features`:"
   ]
  },
  {
   "cell_type": "markdown",
   "metadata": {},
   "source": [
    "❓ Create a $(4,3)$ `numpy.ndarray` storing the values of the 3 features (surface, bedrooms, floors) for the 4 observations. "
   ]
  },
  {
   "cell_type": "code",
   "execution_count": 74,
   "metadata": {
    "tags": [
     "challengify"
    ]
   },
   "outputs": [],
   "source": [
    "# YOUR CODE HERE\n",
    "X = np.array([[620, 1, 1],\n",
    "                          [3280, 4, 2],\n",
    "                          [1900, 2, 2],\n",
    "                          [1320, 3, 3]])"
   ]
  },
  {
   "cell_type": "markdown",
   "metadata": {},
   "source": [
    "❓ Double-check the ***shape***, the ***size*** and the ***dim*** of this ***np.array***"
   ]
  },
  {
   "cell_type": "code",
   "execution_count": 23,
   "metadata": {
    "tags": [
     "challengify"
    ]
   },
   "outputs": [
    {
     "data": {
      "text/plain": [
       "2"
      ]
     },
     "execution_count": 23,
     "metadata": {},
     "output_type": "execute_result"
    }
   ],
   "source": [
    "# YOUR CODE HERE\n",
    "X.shape\n",
    "X.size\n",
    "X.ndim"
   ]
  },
  {
   "cell_type": "markdown",
   "metadata": {},
   "source": [
    "❓Add a \"constant\" vector of ones $ = \\begin{bmatrix}\n",
    "    1 \\\\\n",
    "    1 \\\\\n",
    "    1 \\\\\n",
    "    1 \\\\\n",
    "\\end{bmatrix}$ to create the $(4,4)$ matrix $\\boldsymbol X$ representing the linear system of equations\n",
    "\n",
    "<details>\n",
    "    <summary><i>Explanations</i></summary>\n",
    "\n",
    "🤔 As you've probably noticed, the linear system of equations includes a $\\theta_0$ coefficient which appears in the 4 equations. \n",
    "\n",
    "❗️ We need an additional feature to represent the y-intercept of the linear regression line \n",
    "\n",
    "_Note_ : we talk about an [affine relation](https://math.stackexchange.com/questions/275310/what-is-the-difference-between-linear-and-affine-function) rather than a strict linear relation between the `price` and the features (_Cf. Decision Science Module_)\n",
    "    \n",
    "    \n",
    "</details>"
   ]
  },
  {
   "cell_type": "code",
   "execution_count": 18,
   "metadata": {},
   "outputs": [
    {
     "data": {
      "text/plain": [
       "array([[1.],\n",
       "       [1.],\n",
       "       [1.],\n",
       "       [1.]])"
      ]
     },
     "execution_count": 18,
     "metadata": {},
     "output_type": "execute_result"
    }
   ],
   "source": [
    "# Define x0 as a (4,1) vector filled with 1 with the fastest NumPy method\n",
    "x0 = np.ones((4,1))"
   ]
  },
  {
   "cell_type": "code",
   "execution_count": 75,
   "metadata": {},
   "outputs": [
    {
     "data": {
      "text/plain": [
       "array([[1.00e+00, 6.20e+02, 1.00e+00, 1.00e+00],\n",
       "       [1.00e+00, 3.28e+03, 4.00e+00, 2.00e+00],\n",
       "       [1.00e+00, 1.90e+03, 2.00e+00, 2.00e+00],\n",
       "       [1.00e+00, 1.32e+03, 3.00e+00, 3.00e+00]])"
      ]
     },
     "execution_count": 75,
     "metadata": {},
     "output_type": "execute_result"
    }
   ],
   "source": [
    "# Use `numpy.hstack` to create the (4,4) matrix X by concatenating x0 to your previous (4,3) matrix\n",
    "X = np.hstack((x0, X))\n",
    "X"
   ]
  },
  {
   "cell_type": "markdown",
   "metadata": {},
   "source": [
    "**🧪 Check your code!**"
   ]
  },
  {
   "cell_type": "code",
   "execution_count": 31,
   "metadata": {},
   "outputs": [
    {
     "name": "stdout",
     "output_type": "stream",
     "text": [
      "\n",
      "\u001b[1m============================= test session starts ==============================\u001b[0m\n",
      "platform linux -- Python 3.10.6, pytest-7.1.3, pluggy-1.0.0 -- /home/pp085ster/.pyenv/versions/lewagon/bin/python3\n",
      "cachedir: .pytest_cache\n",
      "rootdir: /home/pp085ster/code/pablopussell/03-Maths/01-Algebra-Calculus/data-real-estate-estimator/tests\n",
      "plugins: anyio-3.6.2, asyncio-0.19.0\n",
      "asyncio: mode=strict\n",
      "\u001b[1mcollecting ... \u001b[0mcollected 3 items\n",
      "\n",
      "test_features.py::TestFeatures::test_X_shape \u001b[32mPASSED\u001b[0m\u001b[32m                      [ 33%]\u001b[0m\n",
      "test_features.py::TestFeatures::test_features_order \u001b[32mPASSED\u001b[0m\u001b[32m               [ 66%]\u001b[0m\n",
      "test_features.py::TestFeatures::test_x0_is_ones \u001b[32mPASSED\u001b[0m\u001b[32m                   [100%]\u001b[0m\n",
      "\n",
      "\u001b[32m============================== \u001b[32m\u001b[1m3 passed\u001b[0m\u001b[32m in 0.10s\u001b[0m\u001b[32m ===============================\u001b[0m\n",
      "\n",
      "\n",
      "💯 You can commit your code:\n",
      "\n",
      "\u001b[1;32mgit\u001b[39m add tests/features.pickle\n",
      "\n",
      "\u001b[32mgit\u001b[39m commit -m \u001b[33m'Completed features step'\u001b[39m\n",
      "\n",
      "\u001b[32mgit\u001b[39m push origin master\n",
      "\n"
     ]
    }
   ],
   "source": [
    "from nbresult import ChallengeResult\n",
    "\n",
    "result = ChallengeResult('features',\n",
    "    features=X\n",
    ")\n",
    "result.write()\n",
    "print(result.check())"
   ]
  },
  {
   "cell_type": "code",
   "execution_count": 35,
   "metadata": {},
   "outputs": [
    {
     "name": "stdout",
     "output_type": "stream",
     "text": [
      "On branch master\n",
      "Changes not staged for commit:\n",
      "  (use \"git add <file>...\" to update what will be committed)\n",
      "  (use \"git restore <file>...\" to discard changes in working directory)\n",
      "\t\u001b[31mmodified:   01-real_estate_estimator.ipynb\u001b[m\n",
      "\n",
      "no changes added to commit (use \"git add\" and/or \"git commit -a\")\n",
      "Everything up-to-date\n"
     ]
    }
   ],
   "source": [
    "# !git add tests/features.pickle\n",
    "\n",
    "!git commit -m 'Completed features step'\n",
    "\n",
    "!git push origin master"
   ]
  },
  {
   "cell_type": "markdown",
   "metadata": {},
   "source": [
    "## (2) Define the vector $\\boldsymbol y$ of `Prices`"
   ]
  },
  {
   "cell_type": "markdown",
   "metadata": {},
   "source": [
    "$\\boldsymbol y  = \\begin{bmatrix}\n",
    "    244 \\\\\n",
    "    671 \\\\\n",
    "    504 \\\\\n",
    "    510\n",
    "\\end{bmatrix}$\n",
    "\n",
    "❓ In order to match our matricial representation $\\boldsymbol y  = \\boldsymbol {X\\cdot \\theta}$, what should the shape of $\\boldsymbol y$ be? Define $\\boldsymbol y$ down below. ❓\n",
    "\n",
    "<details>\n",
    "    <summary><i>Hint</i></summary>\n",
    "\n",
    "$\\boldsymbol y$ should be a $(4,1)$ array, equivalent to a flat \"vector\", represented vertically\n",
    "</details>"
   ]
  },
  {
   "cell_type": "code",
   "execution_count": 42,
   "metadata": {
    "tags": [
     "challengify"
    ]
   },
   "outputs": [
    {
     "data": {
      "text/plain": [
       "array([[244],\n",
       "       [671],\n",
       "       [504],\n",
       "       [510]])"
      ]
     },
     "execution_count": 42,
     "metadata": {},
     "output_type": "execute_result"
    }
   ],
   "source": [
    "# YOUR CODE HERE\n",
    "y = np.array([[244],\n",
    "              [671],\n",
    "              [504],\n",
    "              [510]])\n",
    "y"
   ]
  },
  {
   "cell_type": "markdown",
   "metadata": {},
   "source": [
    "**🧪 Check your code!**"
   ]
  },
  {
   "cell_type": "code",
   "execution_count": 43,
   "metadata": {},
   "outputs": [
    {
     "name": "stdout",
     "output_type": "stream",
     "text": [
      "\n",
      "\u001b[1m============================= test session starts ==============================\u001b[0m\n",
      "platform linux -- Python 3.10.6, pytest-7.1.3, pluggy-1.0.0 -- /home/pp085ster/.pyenv/versions/lewagon/bin/python3\n",
      "cachedir: .pytest_cache\n",
      "rootdir: /home/pp085ster/code/pablopussell/03-Maths/01-Algebra-Calculus/data-real-estate-estimator/tests\n",
      "plugins: anyio-3.6.2, asyncio-0.19.0\n",
      "asyncio: mode=strict\n",
      "\u001b[1mcollecting ... \u001b[0mcollected 1 item\n",
      "\n",
      "test_target.py::TestTarget::test_shape \u001b[32mPASSED\u001b[0m\u001b[32m                            [100%]\u001b[0m\n",
      "\n",
      "\u001b[32m============================== \u001b[32m\u001b[1m1 passed\u001b[0m\u001b[32m in 0.11s\u001b[0m\u001b[32m ===============================\u001b[0m\n",
      "\n",
      "\n",
      "💯 You can commit your code:\n",
      "\n",
      "\u001b[1;32mgit\u001b[39m add tests/target.pickle\n",
      "\n",
      "\u001b[32mgit\u001b[39m commit -m \u001b[33m'Completed target step'\u001b[39m\n",
      "\n",
      "\u001b[32mgit\u001b[39m push origin master\n",
      "\n"
     ]
    }
   ],
   "source": [
    "from nbresult import ChallengeResult\n",
    "\n",
    "result = ChallengeResult('target',\n",
    "    target=y\n",
    ")\n",
    "result.write()\n",
    "print(result.check())"
   ]
  },
  {
   "cell_type": "code",
   "execution_count": 45,
   "metadata": {},
   "outputs": [
    {
     "name": "stdout",
     "output_type": "stream",
     "text": [
      "[master 43d189e] Completed target step\n",
      " 1 file changed, 0 insertions(+), 0 deletions(-)\n",
      " create mode 100644 tests/target.pickle\n",
      "Enumerating objects: 6, done.\n",
      "Counting objects: 100% (6/6), done.\n",
      "Delta compression using up to 8 threads\n",
      "Compressing objects: 100% (4/4), done.\n",
      "Writing objects: 100% (4/4), 536 bytes | 536.00 KiB/s, done.\n",
      "Total 4 (delta 2), reused 0 (delta 0), pack-reused 0\n",
      "remote: Resolving deltas: 100% (2/2), completed with 2 local objects.\u001b[K\n",
      "To github.com:pablopussell/data-real-estate-estimator.git\n",
      "   5952ff0..43d189e  master -> master\n"
     ]
    }
   ],
   "source": [
    "!git add tests/target.pickle\n",
    "\n",
    "!git commit -m 'Completed target step'\n",
    "\n",
    "!git push origin master"
   ]
  },
  {
   "cell_type": "markdown",
   "metadata": {},
   "source": [
    "## (3) Find the solution of the system\n",
    "\n",
    "⏰Now, it's time to find the vector of coefficients $\\boldsymbol \\theta = \\begin{bmatrix}\n",
    "    \\theta_0 \\\\\n",
    "    \\theta_1 \\\\\n",
    "    \\theta_2 \\\\\n",
    "    \\theta_3\n",
    "\\end{bmatrix}$ !\n",
    "\n",
    "👍 The solution of the equation is:\n",
    " \n",
    "$$ \\large \\boldsymbol X \\cdot \\boldsymbol \\theta = \\boldsymbol y \n",
    "\\large \\iff \\boldsymbol X^{-1} \\cdot \\boldsymbol X \\boldsymbol \\cdot \\theta = \\boldsymbol X^{-1} \\cdot \\boldsymbol y \n",
    "\\large \\iff \\boldsymbol \\theta = \\boldsymbol X^{-1} \\cdot \\boldsymbol y\n",
    "$$\n",
    "\n",
    "where $\\large \\boldsymbol X^{-1}$ is the inverse of $\\large \\boldsymbol X$."
   ]
  },
  {
   "cell_type": "code",
   "execution_count": 47,
   "metadata": {},
   "outputs": [
    {
     "data": {
      "text/plain": [
       "array([[ 1.64516129e+00,  4.42419702e-17, -2.90322581e-01,\n",
       "        -3.54838710e-01],\n",
       "       [-5.37634409e-04, -2.50426246e-19,  1.07526882e-03,\n",
       "        -5.37634409e-04],\n",
       "       [ 3.70967742e-01,  5.00000000e-01, -1.24193548e+00,\n",
       "         3.70967742e-01],\n",
       "       [-6.82795699e-01, -5.00000000e-01,  8.65591398e-01,\n",
       "         3.17204301e-01]])"
      ]
     },
     "execution_count": 47,
     "metadata": {},
     "output_type": "execute_result"
    }
   ],
   "source": [
    "# Compute the inverse of the matrix X with the right NumPy method\n",
    "invX = np.linalg.inv(X)\n",
    "invX"
   ]
  },
  {
   "cell_type": "markdown",
   "metadata": {},
   "source": [
    "👉 You can check that the inversion worked by testing the following equality:\n",
    "\n",
    "$$\\boldsymbol X^{-1} \\cdot\\boldsymbol X = \\boldsymbol I_4$$\n",
    "where $\\boldsymbol I_4$ is the $ 4 \\times 4 $ identity matrix $ \\begin{bmatrix}\n",
    "    1 & 0 & 0 & 0 \\\\\n",
    "    0 & 1 & 0 & 0 \\\\\n",
    "    0 & 0 & 1 & 0 \\\\\n",
    "    0 & 0 & 0 & 1\n",
    "\\end{bmatrix}$"
   ]
  },
  {
   "cell_type": "code",
   "execution_count": 51,
   "metadata": {},
   "outputs": [
    {
     "data": {
      "text/plain": [
       "array([[1., 0., 0., 0.],\n",
       "       [0., 1., 0., 0.],\n",
       "       [0., 0., 1., 0.],\n",
       "       [0., 0., 0., 1.]])"
      ]
     },
     "execution_count": 51,
     "metadata": {},
     "output_type": "execute_result"
    }
   ],
   "source": [
    "# Define I4 using the right NumPy method\n",
    "I4 = np.eye(4)\n",
    "I4"
   ]
  },
  {
   "cell_type": "markdown",
   "metadata": {},
   "source": [
    "👉 Now compute $\\boldsymbol X^{-1} \\boldsymbol X$:"
   ]
  },
  {
   "cell_type": "code",
   "execution_count": 61,
   "metadata": {
    "tags": [
     "challengify"
    ]
   },
   "outputs": [
    {
     "data": {
      "text/plain": [
       "array([[ 1.00000000e+00,  2.09166018e-13,  4.99600361e-16,\n",
       "         5.55111512e-17],\n",
       "       [-2.16840434e-19,  1.00000000e+00, -9.75781955e-19,\n",
       "        -5.42101086e-19],\n",
       "       [ 1.11022302e-16,  2.79776202e-13,  1.00000000e+00,\n",
       "         1.11022302e-16],\n",
       "       [-5.55111512e-17, -1.55875313e-13, -2.77555756e-16,\n",
       "         1.00000000e+00]])"
      ]
     },
     "execution_count": 61,
     "metadata": {},
     "output_type": "execute_result"
    }
   ],
   "source": [
    "# YOUR CODE HERE\n",
    "x_invX = invX @ X\n",
    "x_invX"
   ]
  },
  {
   "cell_type": "markdown",
   "metadata": {},
   "source": [
    "❓Does it look like $\\boldsymbol I_4 = $ ❓\n",
    "\n",
    "⛔️ If it doesn't, you probably used the `*` operator to perform the multiplication between $\\boldsymbol X^{-1}$ and $\\boldsymbol X$. Here we want to perform the matrix product. You should find the right Numpy method to do so.\n",
    "\n",
    "✅ If it does, you might have noticed that you do not get exactly zeros and ones in the resulting product. To be sure, you can try the [`numpy.allclose()`](https://numpy.org/doc/stable/reference/generated/numpy.allclose.html?highlight=allclose#numpy.allclose) method to check your result:"
   ]
  },
  {
   "cell_type": "code",
   "execution_count": 62,
   "metadata": {
    "tags": [
     "challengify"
    ]
   },
   "outputs": [
    {
     "data": {
      "text/plain": [
       "True"
      ]
     },
     "execution_count": 62,
     "metadata": {},
     "output_type": "execute_result"
    }
   ],
   "source": [
    "# YOUR CODE HERE\n",
    "np.allclose(x_invX, I4)"
   ]
  },
  {
   "cell_type": "markdown",
   "metadata": {},
   "source": [
    "🎉 You are finally able to compute `theta` using the following formula: $ \\large \\boldsymbol \\theta = \\boldsymbol X^{-1}\\cdot \\boldsymbol y $:"
   ]
  },
  {
   "cell_type": "code",
   "execution_count": 63,
   "metadata": {
    "tags": [
     "challengify"
    ]
   },
   "outputs": [
    {
     "data": {
      "text/plain": [
       "array([[ 74.12903226],\n",
       "       [  0.13655914],\n",
       "       [-10.72580645],\n",
       "       [ 95.93010753]])"
      ]
     },
     "execution_count": 63,
     "metadata": {},
     "output_type": "execute_result"
    }
   ],
   "source": [
    "# YOUR CODE HERE\n",
    "theta = invX @ y\n",
    "theta"
   ]
  },
  {
   "cell_type": "markdown",
   "metadata": {},
   "source": [
    "**🧪 Check your code!**"
   ]
  },
  {
   "cell_type": "code",
   "execution_count": 64,
   "metadata": {},
   "outputs": [
    {
     "name": "stdout",
     "output_type": "stream",
     "text": [
      "\n",
      "\u001b[1m============================= test session starts ==============================\u001b[0m\n",
      "platform linux -- Python 3.10.6, pytest-7.1.3, pluggy-1.0.0 -- /home/pp085ster/.pyenv/versions/lewagon/bin/python3\n",
      "cachedir: .pytest_cache\n",
      "rootdir: /home/pp085ster/code/pablopussell/03-Maths/01-Algebra-Calculus/data-real-estate-estimator/tests\n",
      "plugins: anyio-3.6.2, asyncio-0.19.0\n",
      "asyncio: mode=strict\n",
      "\u001b[1mcollecting ... \u001b[0mcollected 2 items\n",
      "\n",
      "test_solution.py::TestSolution::test_theta0_is_positive \u001b[32mPASSED\u001b[0m\u001b[32m           [ 50%]\u001b[0m\n",
      "test_solution.py::TestSolution::test_theta_shape \u001b[32mPASSED\u001b[0m\u001b[32m                  [100%]\u001b[0m\n",
      "\n",
      "\u001b[32m============================== \u001b[32m\u001b[1m2 passed\u001b[0m\u001b[32m in 0.09s\u001b[0m\u001b[32m ===============================\u001b[0m\n",
      "\n",
      "\n",
      "💯 You can commit your code:\n",
      "\n",
      "\u001b[1;32mgit\u001b[39m add tests/solution.pickle\n",
      "\n",
      "\u001b[32mgit\u001b[39m commit -m \u001b[33m'Completed solution step'\u001b[39m\n",
      "\n",
      "\u001b[32mgit\u001b[39m push origin master\n",
      "\n"
     ]
    }
   ],
   "source": [
    "from nbresult import ChallengeResult\n",
    "\n",
    "result = ChallengeResult('solution',\n",
    "    theta=theta\n",
    ")\n",
    "result.write()\n",
    "print(result.check())"
   ]
  },
  {
   "cell_type": "code",
   "execution_count": 65,
   "metadata": {},
   "outputs": [
    {
     "name": "stdout",
     "output_type": "stream",
     "text": [
      "[master 5aa1be1] Completed solution step\n",
      " 1 file changed, 0 insertions(+), 0 deletions(-)\n",
      " create mode 100644 tests/solution.pickle\n",
      "Enumerating objects: 6, done.\n",
      "Counting objects: 100% (6/6), done.\n",
      "Delta compression using up to 8 threads\n",
      "Compressing objects: 100% (4/4), done.\n",
      "Writing objects: 100% (4/4), 572 bytes | 572.00 KiB/s, done.\n",
      "Total 4 (delta 2), reused 0 (delta 0), pack-reused 0\n",
      "remote: Resolving deltas: 100% (2/2), completed with 2 local objects.\u001b[K\n",
      "To github.com:pablopussell/data-real-estate-estimator.git\n",
      "   43d189e..5aa1be1  master -> master\n"
     ]
    }
   ],
   "source": [
    "!git add tests/solution.pickle\n",
    "\n",
    "!git commit -m 'Completed solution step'\n",
    "\n",
    "!git push origin master"
   ]
  },
  {
   "cell_type": "markdown",
   "metadata": {},
   "source": [
    "## (4) Estimation of a new flat price\n",
    "\n",
    "You finally solved the system finding $\\boldsymbol \\theta$ and are now able to estimate the `Price` (in thousands of $) of a 5th flat given these characteristics:\n",
    "\n",
    "- `Surface`: 3000 $ft^2$\n",
    "- `Bedrooms`: 5 \n",
    "- `Floors`: 1\n",
    "\n",
    "with the following formula:\n",
    "\n",
    "$$y_{flat5} = \\boldsymbol x_{flat5} \\cdot \\boldsymbol \\theta$$"
   ]
  },
  {
   "cell_type": "code",
   "execution_count": 69,
   "metadata": {},
   "outputs": [
    {
     "data": {
      "text/plain": [
       "array([526.10752688])"
      ]
     },
     "execution_count": 69,
     "metadata": {},
     "output_type": "execute_result"
    }
   ],
   "source": [
    "# Define x5\n",
    "x5 = np.array([1, 3000, 5, 1])\n",
    "x5\n",
    "\n",
    "# Compute y5\n",
    "y5 = x5 @ theta\n",
    "y5\n",
    "# You should find a Price of 526,000 $\n"
   ]
  },
  {
   "cell_type": "markdown",
   "metadata": {},
   "source": [
    "## (5) Reality-check"
   ]
  },
  {
   "cell_type": "markdown",
   "metadata": {},
   "source": [
    "❗️ In reality, a flat price is never entirely determined by its surface, number of bedrooms and  the floor number.\n",
    "\n",
    "Let's imagine that we measure the real price $y_{flat5}$ at $700,000$ instead of $526,000$ as predicted. \n",
    "\n",
    "🤨 Could we take this new information into account to improve our model?\n",
    "\n",
    "❓ Update the linear system of equations $ \\large \\boldsymbol X \\cdot \\boldsymbol \\theta = \\boldsymbol y$ to incorporate the information carried out by this new flat."
   ]
  },
  {
   "cell_type": "code",
   "execution_count": 76,
   "metadata": {},
   "outputs": [
    {
     "data": {
      "text/plain": [
       "(5, 4)"
      ]
     },
     "execution_count": 76,
     "metadata": {},
     "output_type": "execute_result"
    }
   ],
   "source": [
    "# Create the new matrix of features X of shape (5,4)\n",
    "# X = np.vstack((X, x5))\n",
    "X\n",
    "# Print the shape to double-check the shape is indeed (5,4)\n",
    "X.shape\n"
   ]
  },
  {
   "cell_type": "code",
   "execution_count": 77,
   "metadata": {},
   "outputs": [
    {
     "data": {
      "text/plain": [
       "array([[244],\n",
       "       [671],\n",
       "       [504],\n",
       "       [510],\n",
       "       [700]])"
      ]
     },
     "execution_count": 77,
     "metadata": {},
     "output_type": "execute_result"
    }
   ],
   "source": [
    "# Create new y of shape (5,1)\n",
    "# y = np.vstack((y, 700))\n",
    "y"
   ]
  },
  {
   "cell_type": "markdown",
   "metadata": {},
   "source": [
    "👉 Let's try to predict the price of a 6th flat from our updated model.  \n",
    "To do so, try to solve $\\boldsymbol \\theta$ from $\\boldsymbol X \\cdot \\boldsymbol \\theta = \\boldsymbol y$ using [`numpy.linalg.solve`](https://docs.scipy.org/doc/numpy/reference/generated/numpy.linalg.solve.html).\n",
    "\n",
    "😲 What is going on? What can you conclude?"
   ]
  },
  {
   "cell_type": "code",
   "execution_count": 79,
   "metadata": {
    "tags": [
     "challengify"
    ]
   },
   "outputs": [
    {
     "ename": "LinAlgError",
     "evalue": "Last 2 dimensions of the array must be square",
     "output_type": "error",
     "traceback": [
      "\u001b[0;31m---------------------------------------------------------------------------\u001b[0m",
      "\u001b[0;31mLinAlgError\u001b[0m                               Traceback (most recent call last)",
      "Cell \u001b[0;32mIn [79], line 2\u001b[0m\n\u001b[1;32m      1\u001b[0m \u001b[38;5;66;03m# YOUR CODE HERE\u001b[39;00m\n\u001b[0;32m----> 2\u001b[0m sixth_flat_price \u001b[38;5;241m=\u001b[39m \u001b[43mnp\u001b[49m\u001b[38;5;241;43m.\u001b[39;49m\u001b[43mlinalg\u001b[49m\u001b[38;5;241;43m.\u001b[39;49m\u001b[43msolve\u001b[49m\u001b[43m(\u001b[49m\u001b[43mX\u001b[49m\u001b[43m,\u001b[49m\u001b[43m \u001b[49m\u001b[43my\u001b[49m\u001b[43m)\u001b[49m\n",
      "File \u001b[0;32m<__array_function__ internals>:180\u001b[0m, in \u001b[0;36msolve\u001b[0;34m(*args, **kwargs)\u001b[0m\n",
      "File \u001b[0;32m~/.pyenv/versions/3.10.6/envs/lewagon/lib/python3.10/site-packages/numpy/linalg/linalg.py:387\u001b[0m, in \u001b[0;36msolve\u001b[0;34m(a, b)\u001b[0m\n\u001b[1;32m    385\u001b[0m a, _ \u001b[38;5;241m=\u001b[39m _makearray(a)\n\u001b[1;32m    386\u001b[0m _assert_stacked_2d(a)\n\u001b[0;32m--> 387\u001b[0m \u001b[43m_assert_stacked_square\u001b[49m\u001b[43m(\u001b[49m\u001b[43ma\u001b[49m\u001b[43m)\u001b[49m\n\u001b[1;32m    388\u001b[0m b, wrap \u001b[38;5;241m=\u001b[39m _makearray(b)\n\u001b[1;32m    389\u001b[0m t, result_t \u001b[38;5;241m=\u001b[39m _commonType(a, b)\n",
      "File \u001b[0;32m~/.pyenv/versions/3.10.6/envs/lewagon/lib/python3.10/site-packages/numpy/linalg/linalg.py:204\u001b[0m, in \u001b[0;36m_assert_stacked_square\u001b[0;34m(*arrays)\u001b[0m\n\u001b[1;32m    202\u001b[0m m, n \u001b[38;5;241m=\u001b[39m a\u001b[38;5;241m.\u001b[39mshape[\u001b[38;5;241m-\u001b[39m\u001b[38;5;241m2\u001b[39m:]\n\u001b[1;32m    203\u001b[0m \u001b[38;5;28;01mif\u001b[39;00m m \u001b[38;5;241m!=\u001b[39m n:\n\u001b[0;32m--> 204\u001b[0m     \u001b[38;5;28;01mraise\u001b[39;00m LinAlgError(\u001b[38;5;124m'\u001b[39m\u001b[38;5;124mLast 2 dimensions of the array must be square\u001b[39m\u001b[38;5;124m'\u001b[39m)\n",
      "\u001b[0;31mLinAlgError\u001b[0m: Last 2 dimensions of the array must be square"
     ]
    }
   ],
   "source": [
    "# YOUR CODE HERE\n",
    "sixth_flat_price = np.linalg.solve(X, y)"
   ]
  },
  {
   "cell_type": "markdown",
   "metadata": {},
   "source": [
    "<details>\n",
    "    <summary><i>Explanations</i></summary>\n",
    "\n",
    "$ \\large \\boldsymbol X$ is not a square matrix \n",
    "\n",
    "$ \\large  \\rightarrow$  therefore it cannot be inversible: $ \\large  \\boldsymbol X^{-1}$ does not exist\n",
    " \n",
    "$ \\large  \\rightarrow$ $ \\large \\boldsymbol \\theta$ cannot be computed from $ \\large  \\boldsymbol y = \\boldsymbol X \\cdot \\boldsymbol \\theta$ \n",
    "    \n",
    "😕 Our initial approach, which consists in finding a closed mathematical formula to compute a predicted price of a flat as a linear combination of only 3 features **does not hold true** for our 5 observed flats. \n",
    "\n",
    "😉 ***Trust the process !*** \n",
    "\n",
    "$ \\large  \\rightarrow$ Instead, we will learn in the coming weeks methods to **approximate** a flat price based on these features.\n",
    "\n",
    "For instance, instead of solving $\\large  \\boldsymbol y = \\boldsymbol X \\cdot \\boldsymbol \\theta$ we could find $ \\large  \\hat{\\boldsymbol \\theta}$ that minimizes the error $ \\large \\boldsymbol e = \\boldsymbol X \\cdot \\hat{\\boldsymbol \\theta} - \\boldsymbol y $: This approach is called a **Linear Regression model**\n",
    "\n",
    "This new estimator can then be used to give an **approximate** estimation of the price on any new flats with $ \\large  \\hat y_{flat_6} = \\boldsymbol x_{flat_6} \\cdot \\hat{\\boldsymbol \\theta}$ \n",
    "\n",
    "</details>"
   ]
  },
  {
   "cell_type": "markdown",
   "metadata": {},
   "source": [
    "🏁 Congratulations! \n",
    "\n",
    "💾 Don't forget to commit and push your notebook before moving on to the next challenge! "
   ]
  }
 ],
 "metadata": {
  "kernelspec": {
   "display_name": "Python 3 (ipykernel)",
   "language": "python",
   "name": "python3"
  },
  "language_info": {
   "codemirror_mode": {
    "name": "ipython",
    "version": 3
   },
   "file_extension": ".py",
   "mimetype": "text/x-python",
   "name": "python",
   "nbconvert_exporter": "python",
   "pygments_lexer": "ipython3",
   "version": "3.10.6"
  },
  "toc": {
   "base_numbering": 1,
   "nav_menu": {},
   "number_sections": true,
   "sideBar": true,
   "skip_h1_title": false,
   "title_cell": "Table of Contents",
   "title_sidebar": "Contents",
   "toc_cell": false,
   "toc_position": {},
   "toc_section_display": true,
   "toc_window_display": false
  }
 },
 "nbformat": 4,
 "nbformat_minor": 4
}
